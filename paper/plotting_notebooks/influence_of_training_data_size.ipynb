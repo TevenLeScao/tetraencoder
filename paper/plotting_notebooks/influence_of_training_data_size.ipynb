{
 "cells": [
  {
   "cell_type": "code",
   "execution_count": 11,
   "id": "60a4582d",
   "metadata": {},
   "outputs": [],
   "source": [
    "from datasets import load_dataset\n",
    "import numpy as np\n",
    "%matplotlib inline\n",
    "import matplotlib.pyplot as plt"
   ]
  },
  {
   "cell_type": "code",
   "execution_count": 14,
   "id": "7af8431c",
   "metadata": {},
   "outputs": [
    {
     "name": "stderr",
     "output_type": "stream",
     "text": [
      "Using custom data configuration default-78fe9711fdeffc1c\n",
      "Reusing dataset csv (/home/teven/.cache/huggingface/datasets/csv/default-78fe9711fdeffc1c/0.0.0/50d3f5d1aef1732094f95566e0c67506165deea4ff693f78b1a17588fb6bc108)\n"
     ]
    }
   ],
   "source": [
    "data = load_dataset(\"csv\", data_files=\"../raw_data/influence_of_training_data.csv\", split=\"train\")"
   ]
  },
  {
   "cell_type": "code",
   "execution_count": 26,
   "id": "ef3cf737",
   "metadata": {},
   "outputs": [
    {
     "data": {
      "application/vnd.jupyter.widget-view+json": {
       "model_id": "8db4a0705aec409cb7627ef7deebb412",
       "version_major": 2,
       "version_minor": 0
      },
      "text/plain": [
       "  0%|          | 0/103 [00:00<?, ?ex/s]"
      ]
     },
     "metadata": {},
     "output_type": "display_data"
    }
   ],
   "source": [
    "data = data.map(None, remove_columns=[column_name for column_name in data.column_names if \"_step\" in column_name or \"MIN\" in column_name or \"MAX\" in column_name])"
   ]
  },
  {
   "cell_type": "code",
   "execution_count": 29,
   "id": "7aea603d",
   "metadata": {},
   "outputs": [
    {
     "data": {
      "text/plain": [
       "['data_points',\n",
       " 'trex_bs192_hardneg - WebNLG_recall@1',\n",
       " 'tekgen_bs192_hardneg - WebNLG_recall@1',\n",
       " 'kelm_bs192_hardneg - WebNLG_recall@1',\n",
       " 'all_bs192_hardneg - WebNLG_recall@1',\n",
       " 'trex_bs320_batchneg - WebNLG_recall@1',\n",
       " 'tekgen_bs320_batchneg - WebNLG_recall@1',\n",
       " 'kelm_bs320_batchneg - WebNLG_recall@1',\n",
       " 'all_bs320_batchneg - WebNLG_recall@1',\n",
       " 'trex_bs2560_hardneg - WebNLG_recall@1',\n",
       " 'tekgen_bs2560_hardneg - WebNLG_recall@1',\n",
       " 'kelm_bs2560_hardneg - WebNLG_recall@1',\n",
       " 'all_bs2560_hardneg - WebNLG_recall@1',\n",
       " 'baseline - WebNLG_recall@1']"
      ]
     },
     "execution_count": 29,
     "metadata": {},
     "output_type": "execute_result"
    }
   ],
   "source": [
    "data.column_names"
   ]
  },
  {
   "cell_type": "code",
   "execution_count": 30,
   "id": "6f9c24d6",
   "metadata": {},
   "outputs": [],
   "source": [
    "models = [model_name.split()[0] for model_name in data.column_names[1:]]"
   ]
  },
  {
   "cell_type": "code",
   "execution_count": 31,
   "id": "6375bbb0",
   "metadata": {},
   "outputs": [
    {
     "data": {
      "text/plain": [
       "['trex_bs192_hardneg',\n",
       " 'tekgen_bs192_hardneg',\n",
       " 'kelm_bs192_hardneg',\n",
       " 'all_bs192_hardneg',\n",
       " 'trex_bs320_batchneg',\n",
       " 'tekgen_bs320_batchneg',\n",
       " 'kelm_bs320_batchneg',\n",
       " 'all_bs320_batchneg',\n",
       " 'trex_bs2560_hardneg',\n",
       " 'tekgen_bs2560_hardneg',\n",
       " 'kelm_bs2560_hardneg',\n",
       " 'all_bs2560_hardneg',\n",
       " 'baseline']"
      ]
     },
     "execution_count": 31,
     "metadata": {},
     "output_type": "execute_result"
    }
   ],
   "source": [
    "models"
   ]
  },
  {
   "cell_type": "code",
   "execution_count": null,
   "id": "5bd0cee5",
   "metadata": {},
   "outputs": [],
   "source": [
    "performance_per_model = {}"
   ]
  }
 ],
 "metadata": {
  "kernelspec": {
   "display_name": "Python 3",
   "language": "python",
   "name": "python3"
  },
  "language_info": {
   "codemirror_mode": {
    "name": "ipython",
    "version": 3
   },
   "file_extension": ".py",
   "mimetype": "text/x-python",
   "name": "python",
   "nbconvert_exporter": "python",
   "pygments_lexer": "ipython3",
   "version": "3.8.10"
  }
 },
 "nbformat": 4,
 "nbformat_minor": 5
}
