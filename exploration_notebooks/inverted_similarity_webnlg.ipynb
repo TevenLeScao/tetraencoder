{
 "cells": [
  {
   "cell_type": "code",
   "execution_count": 2,
   "id": "a7ab2220",
   "metadata": {},
   "outputs": [],
   "source": [
    "import numpy as np\n",
    "%matplotlib inline\n",
    "import matplotlib.pyplot as plt\n",
    "from collections import Counter"
   ]
  },
  {
   "cell_type": "code",
   "execution_count": 3,
   "id": "c870445c",
   "metadata": {},
   "outputs": [],
   "source": [
    "import datasets"
   ]
  },
  {
   "cell_type": "code",
   "execution_count": 4,
   "id": "cee6833c",
   "metadata": {},
   "outputs": [
    {
     "name": "stderr",
     "output_type": "stream",
     "text": [
      "Using custom data configuration default-52b77304fac2af8a\n"
     ]
    },
    {
     "name": "stdout",
     "output_type": "stream",
     "text": [
      "Downloading and preparing dataset json/default to /home/teven/.cache/huggingface/datasets/json/default-52b77304fac2af8a/0.0.0/ac0ca5f5289a6cf108e706efcf040422dbbfa8e658dee6a819f20d76bb84d26b...\n"
     ]
    },
    {
     "data": {
      "application/vnd.jupyter.widget-view+json": {
       "model_id": "32634a37072d4e6fb707682b5bc0b5b2",
       "version_major": 2,
       "version_minor": 0
      },
      "text/plain": [
       "Downloading data files:   0%|          | 0/1 [00:00<?, ?it/s]"
      ]
     },
     "metadata": {},
     "output_type": "display_data"
    },
    {
     "data": {
      "application/vnd.jupyter.widget-view+json": {
       "model_id": "24e334656b3e42868bdee72dff8e030b",
       "version_major": 2,
       "version_minor": 0
      },
      "text/plain": [
       "Extracting data files:   0%|          | 0/1 [00:00<?, ?it/s]"
      ]
     },
     "metadata": {},
     "output_type": "display_data"
    },
    {
     "name": "stderr",
     "output_type": "stream",
     "text": [
      "Using custom data configuration default-c1b6baf878319154\n"
     ]
    },
    {
     "name": "stdout",
     "output_type": "stream",
     "text": [
      "Dataset json downloaded and prepared to /home/teven/.cache/huggingface/datasets/json/default-52b77304fac2af8a/0.0.0/ac0ca5f5289a6cf108e706efcf040422dbbfa8e658dee6a819f20d76bb84d26b. Subsequent calls will reuse this data.\n",
      "Downloading and preparing dataset json/default to /home/teven/.cache/huggingface/datasets/json/default-c1b6baf878319154/0.0.0/ac0ca5f5289a6cf108e706efcf040422dbbfa8e658dee6a819f20d76bb84d26b...\n"
     ]
    },
    {
     "data": {
      "application/vnd.jupyter.widget-view+json": {
       "model_id": "80b403a4b481464dad396a1b9f7f86ab",
       "version_major": 2,
       "version_minor": 0
      },
      "text/plain": [
       "Downloading data files:   0%|          | 0/1 [00:00<?, ?it/s]"
      ]
     },
     "metadata": {},
     "output_type": "display_data"
    },
    {
     "data": {
      "application/vnd.jupyter.widget-view+json": {
       "model_id": "1506c79928ce42e0b9a106a73d1a8781",
       "version_major": 2,
       "version_minor": 0
      },
      "text/plain": [
       "Extracting data files:   0%|          | 0/1 [00:00<?, ?it/s]"
      ]
     },
     "metadata": {},
     "output_type": "display_data"
    },
    {
     "name": "stdout",
     "output_type": "stream",
     "text": [
      "Dataset json downloaded and prepared to /home/teven/.cache/huggingface/datasets/json/default-c1b6baf878319154/0.0.0/ac0ca5f5289a6cf108e706efcf040422dbbfa8e658dee6a819f20d76bb84d26b. Subsequent calls will reuse this data.\n"
     ]
    }
   ],
   "source": [
    "mixneg = datasets.load_dataset(\"json\", data_files=\"../outputs/dataset_embeddings/from_all/webnlg_inverted_rdfs_len_1.jsonl\", split=\"train\")\n",
    "allneg = datasets.load_dataset(\"json\", data_files=\"../outputs/dataset_embeddings/allneg_alldatasets_bs160/webnlg_inverted_rdfs_len_1.jsonl\", split=\"train\")"
   ]
  },
  {
   "cell_type": "code",
   "execution_count": 8,
   "id": "f1f64653",
   "metadata": {},
   "outputs": [],
   "source": [
    "SYMMETRICAL_RELATIONSHIPS = [\n",
    "    \"taxon synonym\",\n",
    "    \"partner in business or sport\",\n",
    "    \"opposite of\",\n",
    "    \"partially coincident with\",\n",
    "    \"physically interacts with\",\n",
    "    \"partner\",\n",
    "    \"relative\",\n",
    "    \"related category\",\n",
    "    \"connects with\",\n",
    "    \"twinned administrative body\",\n",
    "    \"different from\",\n",
    "    \"said to be the same as\",\n",
    "    \"sibling\",\n",
    "    \"adjacent station\",\n",
    "    \"shares border with\",\n",
    "]"
   ]
  },
  {
   "cell_type": "code",
   "execution_count": 9,
   "id": "2c5e8a87",
   "metadata": {},
   "outputs": [],
   "source": [
    "def plot_differences(dataset):\n",
    "    plt.hist(np.array(dataset[\"similarity_inverted\"]) - np.array(dataset[\"similarity\"]), color = 'blue', edgecolor = 'black',\n",
    "         bins = 100)"
   ]
  },
  {
   "cell_type": "code",
   "execution_count": 10,
   "id": "9b1cbb71",
   "metadata": {},
   "outputs": [],
   "source": [
    "def difference_stats(dataset):\n",
    "    differences = np.array(dataset[\"similarity_inverted\"]) - np.array(dataset[\"similarity\"])\n",
    "    return np.mean(differences), np.std(differences), sum([1 for item in differences if item < 0]) / len(differences)"
   ]
  },
  {
   "cell_type": "code",
   "execution_count": 11,
   "id": "9c27ebd1",
   "metadata": {},
   "outputs": [
    {
     "data": {
      "image/png": "[encoded data removed]",
      "text/plain": [
       "<Figure size 432x288 with 1 Axes>"
      ]
     },
     "metadata": {
      "needs_background": "light"
     },
     "output_type": "display_data"
    }
   ],
   "source": [
    "plot_differences(mixneg)"
   ]
  },
  {
   "cell_type": "code",
   "execution_count": 12,
   "id": "fae26f23",
   "metadata": {},
   "outputs": [
    {
     "data": {
      "image/png": "[encoded data removed]",
      "text/plain": [
       "<Figure size 432x288 with 1 Axes>"
      ]
     },
     "metadata": {
      "needs_background": "light"
     },
     "output_type": "display_data"
    }
   ],
   "source": [
    "plot_differences(allneg)"
   ]
  },
  {
   "cell_type": "code",
   "execution_count": 13,
   "id": "6c1a43c0",
   "metadata": {},
   "outputs": [
    {
     "name": "stdout",
     "output_type": "stream",
     "text": [
      "(-0.08175900751829897, 0.079702468985089, 0.9049255441008018)\n",
      "(-0.006033763596620849, 0.018808771136959456, 0.6222794959908362)\n"
     ]
    }
   ],
   "source": [
    "print(difference_stats(allneg))\n",
    "print(difference_stats(mixneg))"
   ]
  },
  {
   "cell_type": "code",
   "execution_count": 15,
   "id": "f5cbec03",
   "metadata": {},
   "outputs": [
    {
     "data": {
      "text/plain": [
       "{'text': 'The Bella Sky hotel in Copenhagen has 23 floors.',\n",
       " 'triples': [['Bella Sky Hotel', 'floors above ground', '23']],\n",
       " 'rdf_linearized': '[S] Bella Sky Hotel [P] floors above ground [O] 23 ',\n",
       " 'rdf_mixed': '[S] Bella Sky Hotel [P] floors above ground [O] 23 ',\n",
       " 'rdf_inverted': '[S] 23 [P] floors above ground [O] Bella Sky Hotel ',\n",
       " 'similarity': 0.7196078897,\n",
       " 'similarity_inverted': 0.7305240035}"
      ]
     },
     "execution_count": 15,
     "metadata": {},
     "output_type": "execute_result"
    }
   ],
   "source": [
    "mixneg[0]"
   ]
  },
  {
   "cell_type": "code",
   "execution_count": 25,
   "id": "2574e6b7",
   "metadata": {},
   "outputs": [
    {
     "name": "stderr",
     "output_type": "stream",
     "text": [
      "Using custom data configuration default-a4571803e28300eb\n",
      "Reusing dataset json (/home/teven/.cache/huggingface/datasets/json/default-a4571803e28300eb/0.0.0/ac0ca5f5289a6cf108e706efcf040422dbbfa8e658dee6a819f20d76bb84d26b)\n",
      "Using custom data configuration default-0116f399f193d932\n"
     ]
    },
    {
     "name": "stdout",
     "output_type": "stream",
     "text": [
      "Downloading and preparing dataset json/default to /home/teven/.cache/huggingface/datasets/json/default-0116f399f193d932/0.0.0/ac0ca5f5289a6cf108e706efcf040422dbbfa8e658dee6a819f20d76bb84d26b...\n"
     ]
    },
    {
     "data": {
      "application/vnd.jupyter.widget-view+json": {
       "model_id": "30da825cb2ce4517b1f7b94701ae8c44",
       "version_major": 2,
       "version_minor": 0
      },
      "text/plain": [
       "Downloading data files:   0%|          | 0/1 [00:00<?, ?it/s]"
      ]
     },
     "metadata": {},
     "output_type": "display_data"
    },
    {
     "data": {
      "application/vnd.jupyter.widget-view+json": {
       "model_id": "967031bdeb1a409b962bc10429105c06",
       "version_major": 2,
       "version_minor": 0
      },
      "text/plain": [
       "Extracting data files:   0%|          | 0/1 [00:00<?, ?it/s]"
      ]
     },
     "metadata": {},
     "output_type": "display_data"
    },
    {
     "name": "stdout",
     "output_type": "stream",
     "text": [
      "Dataset json downloaded and prepared to /home/teven/.cache/huggingface/datasets/json/default-0116f399f193d932/0.0.0/ac0ca5f5289a6cf108e706efcf040422dbbfa8e658dee6a819f20d76bb84d26b. Subsequent calls will reuse this data.\n"
     ]
    }
   ],
   "source": [
    "mixneg_kelm = datasets.load_dataset(\"json\", data_files=\"../outputs/dataset_embeddings/from_all/kelm_inverted_rdfs_len_1.jsonl\", split=\"train\")\n",
    "allneg_kelm = datasets.load_dataset(\"json\", data_files=\"../outputs/dataset_embeddings/allneg_alldatasets_bs160/kelm_inverted_rdfs_len_1.jsonl\", split=\"train\")"
   ]
  },
  {
   "cell_type": "code",
   "execution_count": 26,
   "id": "538a9eef",
   "metadata": {},
   "outputs": [
    {
     "data": {
      "image/png": "[encoded data removed]",
      "text/plain": [
       "<Figure size 432x288 with 1 Axes>"
      ]
     },
     "metadata": {
      "needs_background": "light"
     },
     "output_type": "display_data"
    }
   ],
   "source": [
    "plot_differences(mixneg_kelm)"
   ]
  },
  {
   "cell_type": "code",
   "execution_count": 27,
   "id": "fcdc5d38",
   "metadata": {},
   "outputs": [
    {
     "data": {
      "image/png": "[encoded data removed]",
      "text/plain": [
       "<Figure size 432x288 with 1 Axes>"
      ]
     },
     "metadata": {
      "needs_background": "light"
     },
     "output_type": "display_data"
    }
   ],
   "source": [
    "plot_differences(allneg_kelm)"
   ]
  },
  {
   "cell_type": "code",
   "execution_count": 28,
   "id": "49a99c7b",
   "metadata": {},
   "outputs": [
    {
     "name": "stdout",
     "output_type": "stream",
     "text": [
      "(-0.1285567357612156, 0.08829407154152465, 0.9882227545457107)\n",
      "(-0.013922849532844808, 0.02172690002462406, 0.7720972446855504)\n"
     ]
    }
   ],
   "source": [
    "print(difference_stats(allneg_kelm))\n",
    "print(difference_stats(mixneg_kelm))"
   ]
  },
  {
   "cell_type": "code",
   "execution_count": 17,
   "id": "51eac6a8",
   "metadata": {},
   "outputs": [
    {
     "name": "stderr",
     "output_type": "stream",
     "text": [
      "Using custom data configuration default-1eb941c6c1fe053f\n",
      "Reusing dataset json (/home/teven/.cache/huggingface/datasets/json/default-1eb941c6c1fe053f/0.0.0/ac0ca5f5289a6cf108e706efcf040422dbbfa8e658dee6a819f20d76bb84d26b)\n",
      "Using custom data configuration default-a938c924f4e0b040\n"
     ]
    },
    {
     "name": "stdout",
     "output_type": "stream",
     "text": [
      "Downloading and preparing dataset json/default to /home/teven/.cache/huggingface/datasets/json/default-a938c924f4e0b040/0.0.0/ac0ca5f5289a6cf108e706efcf040422dbbfa8e658dee6a819f20d76bb84d26b...\n"
     ]
    },
    {
     "data": {
      "application/vnd.jupyter.widget-view+json": {
       "model_id": "eaaa63e095384486a6ae3b2fdf7860a8",
       "version_major": 2,
       "version_minor": 0
      },
      "text/plain": [
       "Downloading data files:   0%|          | 0/1 [00:00<?, ?it/s]"
      ]
     },
     "metadata": {},
     "output_type": "display_data"
    },
    {
     "data": {
      "application/vnd.jupyter.widget-view+json": {
       "model_id": "0ae471198c21462f826adac28ed2763d",
       "version_major": 2,
       "version_minor": 0
      },
      "text/plain": [
       "Extracting data files:   0%|          | 0/1 [00:00<?, ?it/s]"
      ]
     },
     "metadata": {},
     "output_type": "display_data"
    },
    {
     "name": "stdout",
     "output_type": "stream",
     "text": [
      "Dataset json downloaded and prepared to /home/teven/.cache/huggingface/datasets/json/default-a938c924f4e0b040/0.0.0/ac0ca5f5289a6cf108e706efcf040422dbbfa8e658dee6a819f20d76bb84d26b. Subsequent calls will reuse this data.\n"
     ]
    }
   ],
   "source": [
    "mixneg_trex = datasets.load_dataset(\"json\", data_files=\"../outputs/dataset_embeddings/from_all/trex_inverted_rdfs_len_1.jsonl\", split=\"train\")\n",
    "allneg_trex = datasets.load_dataset(\"json\", data_files=\"../outputs/dataset_embeddings/allneg_alldatasets_bs160/trex_inverted_rdfs_len_1.jsonl\", split=\"train\")"
   ]
  },
  {
   "cell_type": "code",
   "execution_count": 18,
   "id": "d1a61ca4",
   "metadata": {},
   "outputs": [
    {
     "data": {
      "image/png": "[encoded data removed]",
      "text/plain": [
       "<Figure size 432x288 with 1 Axes>"
      ]
     },
     "metadata": {
      "needs_background": "light"
     },
     "output_type": "display_data"
    }
   ],
   "source": [
    "plot_differences(mixneg_trex)"
   ]
  },
  {
   "cell_type": "code",
   "execution_count": 19,
   "id": "eae49d11",
   "metadata": {},
   "outputs": [
    {
     "data": {
      "image/png": "[encoded data removed]",
      "text/plain": [
       "<Figure size 432x288 with 1 Axes>"
      ]
     },
     "metadata": {
      "needs_background": "light"
     },
     "output_type": "display_data"
    }
   ],
   "source": [
    "plot_differences(allneg_trex)"
   ]
  },
  {
   "cell_type": "code",
   "execution_count": 20,
   "id": "ebf434a9",
   "metadata": {},
   "outputs": [
    {
     "name": "stdout",
     "output_type": "stream",
     "text": [
      "(-0.0733267981817204, 0.08274783655418348, 0.8215602139765231)\n",
      "(-0.015630826729936074, 0.02516944843544823, 0.7344790655390457)\n"
     ]
    }
   ],
   "source": [
    "print(difference_stats(allneg_trex))\n",
    "print(difference_stats(mixneg_trex))"
   ]
  },
  {
   "cell_type": "code",
   "execution_count": 21,
   "id": "426f19f4",
   "metadata": {},
   "outputs": [
    {
     "name": "stderr",
     "output_type": "stream",
     "text": [
      "Using custom data configuration default-60eea486a33d7323\n",
      "Reusing dataset json (/home/teven/.cache/huggingface/datasets/json/default-60eea486a33d7323/0.0.0/ac0ca5f5289a6cf108e706efcf040422dbbfa8e658dee6a819f20d76bb84d26b)\n",
      "Using custom data configuration default-3fa4d0d17f673472\n"
     ]
    },
    {
     "name": "stdout",
     "output_type": "stream",
     "text": [
      "Downloading and preparing dataset json/default to /home/teven/.cache/huggingface/datasets/json/default-3fa4d0d17f673472/0.0.0/ac0ca5f5289a6cf108e706efcf040422dbbfa8e658dee6a819f20d76bb84d26b...\n"
     ]
    },
    {
     "data": {
      "application/vnd.jupyter.widget-view+json": {
       "model_id": "438b8087256f4c639b305c9f5c0fc0f5",
       "version_major": 2,
       "version_minor": 0
      },
      "text/plain": [
       "Downloading data files:   0%|          | 0/1 [00:00<?, ?it/s]"
      ]
     },
     "metadata": {},
     "output_type": "display_data"
    },
    {
     "data": {
      "application/vnd.jupyter.widget-view+json": {
       "model_id": "0bca1b0eeb4e4916825f6fd8c65430b7",
       "version_major": 2,
       "version_minor": 0
      },
      "text/plain": [
       "Extracting data files:   0%|          | 0/1 [00:00<?, ?it/s]"
      ]
     },
     "metadata": {},
     "output_type": "display_data"
    },
    {
     "name": "stdout",
     "output_type": "stream",
     "text": [
      "Dataset json downloaded and prepared to /home/teven/.cache/huggingface/datasets/json/default-3fa4d0d17f673472/0.0.0/ac0ca5f5289a6cf108e706efcf040422dbbfa8e658dee6a819f20d76bb84d26b. Subsequent calls will reuse this data.\n"
     ]
    }
   ],
   "source": [
    "mixneg_tekgen = datasets.load_dataset(\"json\", data_files=\"../outputs/dataset_embeddings/from_all/tekgen_inverted_rdfs_len_1.jsonl\", split=\"train\")\n",
    "allneg_tekgen = datasets.load_dataset(\"json\", data_files=\"../outputs/dataset_embeddings/allneg_alldatasets_bs160/tekgen_inverted_rdfs_len_1.jsonl\", split=\"train\")"
   ]
  },
  {
   "cell_type": "code",
   "execution_count": 22,
   "id": "c34dc5df",
   "metadata": {},
   "outputs": [
    {
     "data": {
      "image/png": "[encoded data removed]",
      "text/plain": [
       "<Figure size 432x288 with 1 Axes>"
      ]
     },
     "metadata": {
      "needs_background": "light"
     },
     "output_type": "display_data"
    }
   ],
   "source": [
    "plot_differences(mixneg_tekgen)"
   ]
  },
  {
   "cell_type": "code",
   "execution_count": 23,
   "id": "68a0aed9",
   "metadata": {},
   "outputs": [
    {
     "data": {
      "image/png": "[encoded data removed]",
      "text/plain": [
       "<Figure size 432x288 with 1 Axes>"
      ]
     },
     "metadata": {
      "needs_background": "light"
     },
     "output_type": "display_data"
    }
   ],
   "source": [
    "plot_differences(allneg_tekgen)"
   ]
  },
  {
   "cell_type": "code",
   "execution_count": 24,
   "id": "19830218",
   "metadata": {},
   "outputs": [
    {
     "name": "stdout",
     "output_type": "stream",
     "text": [
      "(-0.0825371055024762, 0.07682144611845008, 0.8893848895986215)\n",
      "(-0.011998092115579596, 0.027607106749601987, 0.6718468412663016)\n"
     ]
    }
   ],
   "source": [
    "print(difference_stats(allneg_tekgen))\n",
    "print(difference_stats(mixneg_tekgen))"
   ]
  },
  {
   "cell_type": "code",
   "execution_count": null,
   "id": "0f45e9b0",
   "metadata": {},
   "outputs": [],
   "source": []
  }
 ],
 "metadata": {
  "kernelspec": {
   "display_name": "Python 3",
   "language": "python",
   "name": "python3"
  },
  "language_info": {
   "codemirror_mode": {
    "name": "ipython",
    "version": 3
   },
   "file_extension": ".py",
   "mimetype": "text/x-python",
   "name": "python",
   "nbconvert_exporter": "python",
   "pygments_lexer": "ipython3",
   "version": "3.8.10"
  }
 },
 "nbformat": 4,
 "nbformat_minor": 5
}
