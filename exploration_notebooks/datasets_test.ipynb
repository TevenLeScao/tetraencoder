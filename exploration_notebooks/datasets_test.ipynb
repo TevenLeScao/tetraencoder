{
 "cells": [
  {
   "cell_type": "code",
   "execution_count": 6,
   "id": "f6b2d69f",
   "metadata": {},
   "outputs": [],
   "source": [
    "import copy\n",
    "from random import randrange\n",
    "import datasets"
   ]
  },
  {
   "cell_type": "code",
   "execution_count": 24,
   "id": "090cd0e9",
   "metadata": {},
   "outputs": [],
   "source": [
    "SYMMETRICAL_RELATIONSHIPS = [\n",
    "    \"taxon synonym\",\n",
    "    \"partner in business or sport\",\n",
    "    \"opposite of\",\n",
    "    \"partially coincident with\",\n",
    "    \"physically interacts with\",\n",
    "    \"partner\",\n",
    "    \"relative\",\n",
    "    \"related category\",\n",
    "    \"connects with\",\n",
    "    \"twinned administrative body\",\n",
    "    \"different from\",\n",
    "    \"said to be the same as\",\n",
    "    \"sibling\",\n",
    "    \"adjacent station\",\n",
    "    \"shares border with\",\n",
    "]\n",
    "# special tokens\n",
    "Q_TOKEN = \"[Q]\"\n",
    "S_TOKEN = \"[S]\"\n",
    "P_TOKEN = \"[P]\"\n",
    "O_TOKEN = \"[O]\"\n",
    "N_TOKEN = \"\"\n",
    "SPECIAL_TOKENS = [Q_TOKEN, S_TOKEN, P_TOKEN, O_TOKEN, N_TOKEN]"
   ]
  },
  {
   "cell_type": "code",
   "execution_count": 20,
   "id": "3d6de35d",
   "metadata": {},
   "outputs": [],
   "source": [
    "def linearize_rdf(triples):\n",
    "    encoded_rdf = \"\"\n",
    "    for triple in triples:\n",
    "        if len(triple) == 3:\n",
    "            encoded_rdf += f\"{S_TOKEN} {triple[0]} {P_TOKEN} {triple[1]} {O_TOKEN} {triple[2]} \"\n",
    "        elif len(triple) == 4:\n",
    "            encoded_rdf += f\"{S_TOKEN} {triple[0]} {P_TOKEN} {triple[1]} {triple[2]} {O_TOKEN} {triple[3]} \"\n",
    "        else:\n",
    "            raise ValueError(f\"Triple length was {len(triple)} instead of the expected 3 or 4\")\n",
    "    return encoded_rdf"
   ]
  },
  {
   "cell_type": "code",
   "execution_count": 32,
   "id": "862cac4f",
   "metadata": {},
   "outputs": [],
   "source": [
    "def _invert_triple(triple):\n",
    "    output = copy.deepcopy(triple)\n",
    "    output[0] = triple[-1]\n",
    "    output[-1] = triple[0]\n",
    "    return output\n",
    "\n",
    "def invert_one_triple(example, rdf_key=\"triples\"):\n",
    "    # if all triples in the RDF are symmetrical relationships, return None\n",
    "    possible_swap_spots = [i for i in range(len(example[rdf_key])) if example[rdf_key][i][1] not in SYMMETRICAL_RELATIONSHIPS]\n",
    "    if len(possible_swap_spots) == 0:\n",
    "        example[\"rdf_inverted\"] = None\n",
    "    else:\n",
    "        # we invert at random one of the non-symmetrical relationship triples\n",
    "        replacement_spot = possible_swap_spots[randrange(len(possible_swap_spots))]\n",
    "        inverted_rdf = [_invert_triple(example[rdf_key][i]) if i == replacement_spot else example[rdf_key][i] for i in range(len(example[rdf_key]))]\n",
    "        example[\"rdf_inverted\"] = linearize_rdf(inverted_rdf)\n",
    "    return example"
   ]
  },
  {
   "cell_type": "code",
   "execution_count": 33,
   "id": "a188fc46",
   "metadata": {},
   "outputs": [
    {
     "name": "stderr",
     "output_type": "stream",
     "text": [
      "Using custom data configuration default-4a0c9cbc9b685d80\n",
      "Reusing dataset json (/home/teven/.cache/huggingface/datasets/json/default-4a0c9cbc9b685d80/0.0.0/ac0ca5f5289a6cf108e706efcf040422dbbfa8e658dee6a819f20d76bb84d26b)\n"
     ]
    }
   ],
   "source": [
    "kelm = datasets.load_dataset(\"json\", data_files=\"../datasets/KELM/clean_kelm.jsonl\", split=\"train\")"
   ]
  },
  {
   "cell_type": "code",
   "execution_count": 37,
   "id": "386f7fe6",
   "metadata": {},
   "outputs": [
    {
     "data": {
      "text/plain": [
       "{'triples': [['Fazl Rural District ( Hamadan Province )',\n",
       "   'located in the administrative territorial entity',\n",
       "   'Zarrin Dasht District'],\n",
       "  ['Fazl Rural District ( Hamadan Province )', 'country', 'Iran'],\n",
       "  ['Fazl Rural District ( Hamadan Province )',\n",
       "   'instance of',\n",
       "   'Dehestan ( administrative division )']],\n",
       " 'serialized_triples': 'Fazl Rural District ( Hamadan Province ) country Iran, located in the administrative territorial entity Zarrin Dasht District, instance of Dehestan ( administrative division ).',\n",
       " 'gen_sentence': 'Fazl Rural District (Hamadan Province) is located in the Zarrin Dasht District, Iran.',\n",
       " 'rdf_inverted': '[S] Fazl Rural District ( Hamadan Province ) [P] located in the administrative territorial entity [O] Zarrin Dasht District [S] Fazl Rural District ( Hamadan Province ) [P] country [O] Iran [S] Dehestan ( administrative division ) [P] instance of [O] Fazl Rural District ( Hamadan Province ) '}"
      ]
     },
     "execution_count": 37,
     "metadata": {},
     "output_type": "execute_result"
    }
   ],
   "source": [
    "invert_one_triple(kelm[3])"
   ]
  },
  {
   "cell_type": "code",
   "execution_count": null,
   "id": "f616b807",
   "metadata": {},
   "outputs": [],
   "source": []
  }
 ],
 "metadata": {
  "kernelspec": {
   "display_name": "Python 3",
   "language": "python",
   "name": "python3"
  },
  "language_info": {
   "codemirror_mode": {
    "name": "ipython",
    "version": 3
   },
   "file_extension": ".py",
   "mimetype": "text/x-python",
   "name": "python",
   "nbconvert_exporter": "python",
   "pygments_lexer": "ipython3",
   "version": "3.8.10"
  }
 },
 "nbformat": 4,
 "nbformat_minor": 5
}
